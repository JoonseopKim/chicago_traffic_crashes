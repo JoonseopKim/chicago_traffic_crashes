{
 "cells": [
  {
   "cell_type": "code",
   "execution_count": 1,
   "id": "e0484393-1dae-4a57-9eae-001ea60e26eb",
   "metadata": {},
   "outputs": [],
   "source": [
    "import numpy as np\n",
    "import pandas as pd\n",
    "import matplotlib.pyplot as plt\n",
    "\n",
    "pd.set_option('display.max_columns', None)\n"
   ]
  },
  {
   "cell_type": "markdown",
   "id": "fa355b03-23bf-4c4a-9876-f94f9a4b18ef",
   "metadata": {},
   "source": [
    "# Load Data"
   ]
  },
  {
   "cell_type": "code",
   "execution_count": 2,
   "id": "c29dae64-f1a3-4ca3-aace-d843ae54bd0b",
   "metadata": {},
   "outputs": [
    {
     "name": "stderr",
     "output_type": "stream",
     "text": [
      "/var/folders/k6/jt73vds53h50yfyvznvj62nw0000gn/T/ipykernel_98789/427318068.py:1: DtypeWarning: Columns (10) have mixed types. Specify dtype option on import or set low_memory=False.\n",
      "  crashes = pd.read_csv(\"./Data/Traffic_Crashes_-_Crashes_20251007.csv\")\n"
     ]
    }
   ],
   "source": [
    "crashes = pd.read_csv(\"./Data/Traffic_Crashes_-_Crashes_20251007.csv\")"
   ]
  },
  {
   "cell_type": "code",
   "execution_count": 3,
   "id": "fac4a118-2fe4-4f4d-b84f-bcceabb1799d",
   "metadata": {},
   "outputs": [],
   "source": [
    "df = crashes.copy()\n",
    "\n",
    "# filter up to 9/30/25 inclusive\n",
    "df[\"CRASH_DATE\"] = pd.to_datetime(df[\"CRASH_DATE\"], errors=\"coerce\", format=\"%m/%d/%Y %I:%M:%S %p\")\n",
    "\n",
    "\n",
    "# using cutoff date\n",
    "cutoff_date = pd.Timestamp(\"2025-09-30 23:59:59\")\n",
    "df = df[df[\"CRASH_DATE\"] <= cutoff_date].copy()"
   ]
  },
  {
   "cell_type": "code",
   "execution_count": 4,
   "id": "606325fa-1162-431a-9a82-2f2e2e5a8f11",
   "metadata": {},
   "outputs": [
    {
     "name": "stdout",
     "output_type": "stream",
     "text": [
      "['CRASH_RECORD_ID', 'CRASH_DATE_EST_I', 'CRASH_DATE', 'POSTED_SPEED_LIMIT', 'TRAFFIC_CONTROL_DEVICE', 'DEVICE_CONDITION', 'WEATHER_CONDITION', 'LIGHTING_CONDITION', 'FIRST_CRASH_TYPE', 'TRAFFICWAY_TYPE', 'LANE_CNT', 'ALIGNMENT', 'ROADWAY_SURFACE_COND', 'ROAD_DEFECT', 'REPORT_TYPE', 'CRASH_TYPE', 'INTERSECTION_RELATED_I', 'NOT_RIGHT_OF_WAY_I', 'HIT_AND_RUN_I', 'DAMAGE', 'DATE_POLICE_NOTIFIED', 'PRIM_CONTRIBUTORY_CAUSE', 'SEC_CONTRIBUTORY_CAUSE', 'STREET_NO', 'STREET_DIRECTION', 'STREET_NAME', 'BEAT_OF_OCCURRENCE', 'PHOTOS_TAKEN_I', 'STATEMENTS_TAKEN_I', 'DOORING_I', 'WORK_ZONE_I', 'WORK_ZONE_TYPE', 'WORKERS_PRESENT_I', 'NUM_UNITS', 'MOST_SEVERE_INJURY', 'INJURIES_TOTAL', 'INJURIES_FATAL', 'INJURIES_INCAPACITATING', 'INJURIES_NON_INCAPACITATING', 'INJURIES_REPORTED_NOT_EVIDENT', 'INJURIES_NO_INDICATION', 'INJURIES_UNKNOWN', 'CRASH_HOUR', 'CRASH_DAY_OF_WEEK', 'CRASH_MONTH', 'LATITUDE', 'LONGITUDE', 'LOCATION']\n"
     ]
    }
   ],
   "source": [
    "print(list(df.columns))"
   ]
  },
  {
   "cell_type": "code",
   "execution_count": 5,
   "id": "22fa0123-499f-4f1f-91ac-a18cfcf6034f",
   "metadata": {},
   "outputs": [
    {
     "data": {
      "text/plain": [
       "989533"
      ]
     },
     "execution_count": 5,
     "metadata": {},
     "output_type": "execute_result"
    }
   ],
   "source": [
    "len(df)"
   ]
  },
  {
   "cell_type": "code",
   "execution_count": null,
   "id": "880dce2e-9b63-44df-8d2a-c22a10277f2e",
   "metadata": {},
   "outputs": [],
   "source": []
  },
  {
   "cell_type": "markdown",
   "id": "6390a7aa-c0a6-4601-9126-d29cd8ef6820",
   "metadata": {},
   "source": [
    "# Handle Unknown/Not Applicable as NA"
   ]
  },
  {
   "cell_type": "code",
   "execution_count": 6,
   "id": "56d8a05e-cc68-4ea7-a065-747b6531c99e",
   "metadata": {},
   "outputs": [],
   "source": [
    "# standardize primary and secondary causes\n",
    "df[\"PRIM_CONTRIBUTORY_CAUSE\"] = df[\"PRIM_CONTRIBUTORY_CAUSE\"].astype(str).str.upper()\n",
    "df[\"SEC_CONTRIBUTORY_CAUSE\"] = df[\"SEC_CONTRIBUTORY_CAUSE\"].astype(str).str.upper()\n",
    "\n",
    "# list of unknown conditions\n",
    "unknowns = [\"UNKNOWN\", \"UNABLE TO DETERMINE\", \"NOT APPLICABLE\", \"NAN\", \"\", np.nan]\n",
    "\n",
    "# shift instances where primary causes is an unknown condition, but secondary cause is present\n",
    "mask = df[\"PRIM_CONTRIBUTORY_CAUSE\"].isin(unknowns)\n",
    "df.loc[mask, \"PRIM_CONTRIBUTORY_CAUSE\"] = df.loc[mask, \"SEC_CONTRIBUTORY_CAUSE\"]\n"
   ]
  },
  {
   "cell_type": "code",
   "execution_count": 8,
   "id": "c3106dc6-f304-4932-a543-7c2ff4fe1678",
   "metadata": {},
   "outputs": [],
   "source": [
    "# now filter out where primary causes is still blank\n",
    "df = df[\n",
    "    (~df[\"PRIM_CONTRIBUTORY_CAUSE\"].isin(unknowns))\n",
    "].copy()"
   ]
  },
  {
   "cell_type": "code",
   "execution_count": 9,
   "id": "bd160e3b-03e7-49b6-9023-d54fdcd5297f",
   "metadata": {},
   "outputs": [
    {
     "data": {
      "text/plain": [
       "559874"
      ]
     },
     "execution_count": 9,
     "metadata": {},
     "output_type": "execute_result"
    }
   ],
   "source": [
    "len(df)"
   ]
  },
  {
   "cell_type": "markdown",
   "id": "4bee29df-8ca8-4c15-9286-87c66e15e822",
   "metadata": {
    "jp-MarkdownHeadingCollapsed": true
   },
   "source": [
    "# Crashes Initial Daily Distribution"
   ]
  },
  {
   "cell_type": "code",
   "execution_count": null,
   "id": "21926485-731c-4e1e-80f2-10982ae335f9",
   "metadata": {},
   "outputs": [],
   "source": [
    "# --- Convert CRASH_DATE to datetime ---\n",
    "df['CRASH_DATE'] = pd.to_datetime(df['CRASH_DATE'], errors='coerce', infer_datetime_format=True)\n",
    "\n",
    "#extract hour\n",
    "df['HOUR'] = df['CRASH_DATE'].dt.hour\n",
    "df['DAY_OF_WEEK'] = df['CRASH_DATE'].dt.dayofweek + 1\n",
    "\n",
    "df = df.dropna(subset=['HOUR', 'DAY_OF_WEEK'])\n",
    "\n",
    "hourly = (\n",
    "    df.groupby(['DAY_OF_WEEK', 'HOUR'])\n",
    "      .size()\n",
    "      .reset_index(name='COUNT')\n",
    ")\n",
    "pivot = hourly.pivot(index='HOUR', columns='DAY_OF_WEEK', values='COUNT').fillna(0)\n",
    "\n",
    "# --- Plot (7 lines for 7 days) ---\n",
    "plt.figure(figsize=(10, 6))\n",
    "day_labels = ['Mon', 'Tue', 'Wed', 'Thu', 'Fri', 'Sat', 'Sun']\n",
    "\n",
    "for dow in pivot.columns:\n",
    "    plt.plot(pivot.index, pivot[dow], marker='o', label=day_labels[dow - 1])\n",
    "\n",
    "plt.title(\"Chicago Traffic Crashes by Hour and Day of Week (from CRASH_DATE)\")\n",
    "plt.xlabel(\"Hour of Day (0–23)\")\n",
    "plt.ylabel(\"Number of Crashes\")\n",
    "plt.xticks(range(0, 24))\n",
    "plt.legend(title=\"Day of Week\")\n",
    "plt.grid(True, alpha=0.3)\n",
    "plt.tight_layout()\n",
    "plt.show()\n"
   ]
  },
  {
   "cell_type": "markdown",
   "id": "df6a085a-bed8-4ceb-b6df-fec062453e87",
   "metadata": {
    "jp-MarkdownHeadingCollapsed": true
   },
   "source": [
    "# Primary Causes"
   ]
  },
  {
   "cell_type": "code",
   "execution_count": null,
   "id": "1c77ae17-2f2a-40b3-bddc-fc6c93a26176",
   "metadata": {},
   "outputs": [],
   "source": [
    "df_filtered = df.copy()"
   ]
  },
  {
   "cell_type": "code",
   "execution_count": null,
   "id": "4b1bdf61-55df-4865-b4c9-a8c8c2f00610",
   "metadata": {},
   "outputs": [],
   "source": [
    "# replace unknown conditions in primary and secondary causes as nan\n",
    "df_filtered[[\"PRIM_CONTRIBUTORY_CAUSE\", \"SEC_CONTRIBUTORY_CAUSE\"]] = (\n",
    "    df_filtered[[\"PRIM_CONTRIBUTORY_CAUSE\", \"SEC_CONTRIBUTORY_CAUSE\"]]\n",
    "    .replace(unknowns, np.nan)\n",
    ")\n",
    "\n"
   ]
  },
  {
   "cell_type": "code",
   "execution_count": null,
   "id": "06c25f34-c751-4be1-870b-70623d88ec3a",
   "metadata": {},
   "outputs": [],
   "source": [
    "# top 10 causes\n",
    "\n",
    "top_causes = (\n",
    "    df_filtered[\"PRIM_CONTRIBUTORY_CAUSE\"]\n",
    "    .value_counts()\n",
    "    .head(10)\n",
    "    .sort_values(ascending=True)  # sort ascending for horizontal bars\n",
    ")\n",
    "\n",
    "# --- Plot ---\n",
    "plt.figure(figsize=(10, 6))\n",
    "top_causes.plot(kind=\"barh\", color=\"steelblue\", edgecolor=\"black\")\n",
    "\n",
    "plt.title(\"Top 10 Primary Contributing Causes of Crashes (Before Sept 30, 2025)\")\n",
    "plt.xlabel(\"Number of Crashes\")\n",
    "plt.ylabel(\"Primary Contributing Cause\")\n",
    "plt.grid(axis=\"x\", alpha=0.3)\n",
    "plt.tight_layout()\n",
    "plt.show()"
   ]
  },
  {
   "cell_type": "code",
   "execution_count": null,
   "id": "f61b306e-cae6-40d3-b654-033fe48929dd",
   "metadata": {},
   "outputs": [],
   "source": [
    "# top 10 causes for secondary\n",
    "\n",
    "top_causes = (\n",
    "    df_filtered[\"SEC_CONTRIBUTORY_CAUSE\"]\n",
    "    .value_counts()\n",
    "    .head(10)\n",
    "    .sort_values(ascending=True)  # sort ascending for horizontal bars\n",
    ")\n",
    "\n",
    "# --- Plot ---\n",
    "plt.figure(figsize=(10, 6))\n",
    "top_causes.plot(kind=\"barh\", color=\"steelblue\", edgecolor=\"black\")\n",
    "\n",
    "plt.title(\"Top 10 Secondary Contributing Causes of Crashes (Before Sept 30, 2025)\")\n",
    "plt.xlabel(\"Number of Crashes\")\n",
    "plt.ylabel(\"Primary Contributing Cause\")\n",
    "plt.grid(axis=\"x\", alpha=0.3)\n",
    "plt.tight_layout()\n",
    "plt.show()"
   ]
  },
  {
   "cell_type": "code",
   "execution_count": null,
   "id": "9c8988f9-e41c-474a-b1c3-8218f80be0aa",
   "metadata": {},
   "outputs": [],
   "source": [
    "df"
   ]
  },
  {
   "cell_type": "code",
   "execution_count": null,
   "id": "00ca2da3-a364-4717-9f54-ef75f5efb63b",
   "metadata": {},
   "outputs": [],
   "source": [
    "\n",
    "# Remove rows where primary and secondary causes are the same\n",
    "df_filtered = df_filtered[\n",
    "    df_filtered[\"PRIM_CONTRIBUTORY_CAUSE\"] != df_filtered[\"SEC_CONTRIBUTORY_CAUSE\"]\n",
    "].copy()\n",
    "\n",
    "\n",
    "df_filtered[\"PRIM_CONTRIBUTORY_CAUSE\"] = df_filtered[\"PRIM_CONTRIBUTORY_CAUSE\"].astype(str).str.upper()\n",
    "df_filtered[\"SEC_CONTRIBUTORY_CAUSE\"] = df_filtered[\"SEC_CONTRIBUTORY_CAUSE\"].astype(str).str.upper()\n",
    "\n",
    "# Treat these as missing\n",
    "to_nan = [\"UNABLE TO DETERMINE\", \"NOT APPLICABLE\", \"UNKNOWN\", \"OTHER\", \"NAN\", \"\"]\n",
    "df_filtered[[\"PRIM_CONTRIBUTORY_CAUSE\", \"SEC_CONTRIBUTORY_CAUSE\"]] = (\n",
    "    df_filtered[[\"PRIM_CONTRIBUTORY_CAUSE\", \"SEC_CONTRIBUTORY_CAUSE\"]].replace(to_nan, np.nan)\n",
    ")\n",
    "\n",
    "# Top 10 primary causes\n",
    "top_primary = df_filtered[\"PRIM_CONTRIBUTORY_CAUSE\"].value_counts().head(10).index\n",
    "\n",
    "# Keep only those, drop rows where secondary is NaN or same as primary\n",
    "df_top = df_filtered[df_filtered[\"PRIM_CONTRIBUTORY_CAUSE\"].isin(top_primary)].copy()\n",
    "df_top = df_top[\n",
    "    df_top[\"SEC_CONTRIBUTORY_CAUSE\"].notna() &\n",
    "    (df_top[\"PRIM_CONTRIBUTORY_CAUSE\"] != df_top[\"SEC_CONTRIBUTORY_CAUSE\"])\n",
    "]\n",
    "\n",
    "# Count all primary-secondary pairs\n",
    "pair_counts = (\n",
    "    df_top.groupby([\"PRIM_CONTRIBUTORY_CAUSE\", \"SEC_CONTRIBUTORY_CAUSE\"])\n",
    "    .size()\n",
    "    .reset_index(name=\"Count\")\n",
    ")\n",
    "\n",
    "# For each primary, keep the secondary with the max Count\n",
    "result = (\n",
    "    pair_counts.loc[pair_counts.groupby(\"PRIM_CONTRIBUTORY_CAUSE\")[\"Count\"].idxmax()]\n",
    "    .sort_values(\"Count\", ascending=False)\n",
    "    .reset_index(drop=True)\n",
    ")\n",
    "\n",
    "result"
   ]
  },
  {
   "cell_type": "markdown",
   "id": "4eaa5f51-998b-4fbe-b5e5-a2a82331f83c",
   "metadata": {
    "jp-MarkdownHeadingCollapsed": true
   },
   "source": [
    "# Filter for Peak Hours"
   ]
  },
  {
   "cell_type": "code",
   "execution_count": null,
   "id": "b0f041b6-d490-4ea3-9026-3bfb25f70821",
   "metadata": {},
   "outputs": [],
   "source": [
    "df_peak = df[\n",
    "    (df[\"CRASH_DAY_OF_WEEK\"].between(2, 6)) &\n",
    "    (df[\"CRASH_HOUR\"].isin([8, 15, 16, 17]))\n",
    "].copy()"
   ]
  },
  {
   "cell_type": "code",
   "execution_count": null,
   "id": "93c417bc-0cab-405d-8fbd-ad0a7e0b8637",
   "metadata": {},
   "outputs": [],
   "source": [
    "df_peak[\"CRASH_HOUR\"].unique()"
   ]
  },
  {
   "cell_type": "code",
   "execution_count": null,
   "id": "4f12e217-55fe-4006-b16e-6cd97afc5268",
   "metadata": {},
   "outputs": [],
   "source": [
    "df_peak[\"PRIM_CONTRIBUTORY_CAUSE\"].unique()"
   ]
  },
  {
   "cell_type": "code",
   "execution_count": null,
   "id": "c51d233b-c16f-4025-b443-4db5ed3fbc72",
   "metadata": {},
   "outputs": [],
   "source": [
    "\n",
    "# List of cause mappings (subject to change)\n",
    "\n",
    "cause_mapping = {\n",
    "    # 1.Sinage error\n",
    "\n",
    "    \"FAILING TO YIELD RIGHT-OF-WAY\": \"Decision / Right-of-Way\",\n",
    "    \"DISREGARDING STOP SIGN\": \"Decision / Right-of-Way\",\n",
    "    \"DISREGARDING YIELD SIGN\": \"Decision / Right-of-Way\",\n",
    "    \"DISREGARDING TRAFFIC SIGNALS\": \"Decision / Right-of-Way\",\n",
    "    \"DISREGARDING OTHER TRAFFIC SIGNS\": \"Decision / Right-of-Way\",\n",
    "    \"DISREGARDING ROAD MARKINGS\": \"Decision / Right-of-Way\",\n",
    "    \"TURNING RIGHT ON RED\": \"Decision / Right-of-Way\",\n",
    "\n",
    "    # Manuever Error\n",
    "    \"IMPROPER BACKING\": \"Maneuvering / Control\",\n",
    "    \"IMPROPER LANE USAGE\": \"Maneuvering / Control\",\n",
    "    \"IMPROPER OVERTAKING/PASSING\": \"Maneuvering / Control\",\n",
    "    \"IMPROPER TURNING/NO SIGNAL\": \"Maneuvering / Control\",\n",
    "    \"DRIVING ON WRONG SIDE/WRONG WAY\": \"Maneuvering / Control\",\n",
    "    \"FOLLOWING TOO CLOSELY\": \"Maneuvering / Control\",\n",
    "    \"DRIVING SKILLS/KNOWLEDGE/EXPERIENCE\": \"Maneuvering / Control\",\n",
    "\n",
    "    # Aggressive\n",
    "    \"OPERATING VEHICLE IN ERRATIC, RECKLESS, CARELESS, NEGLIGENT OR AGGRESSIVE MANNER\": \"Reckless\",\n",
    "    \"PASSING STOPPED SCHOOL BUS\": \"Reckless\",\n",
    "    \n",
    "\n",
    "    # 2. Speed-Related\n",
    "    \"EXCEEDING AUTHORIZED SPEED LIMIT\": \"Speed Related\",\n",
    "    \"EXCEEDING SAFE SPEED FOR CONDITIONS\": \"Speed Related\",\n",
    "    \"FAILING TO REDUCE SPEED TO AVOID CRASH\": \"Speed Related\",\n",
    "\n",
    "    # 3. Impairment / Physical Condition\n",
    "    \"HAD BEEN DRINKING (USE WHEN ARREST IS NOT MADE)\": \"Impairment / Physical Condition\",\n",
    "    \"UNDER THE INFLUENCE OF ALCOHOL/DRUGS (USE WHEN ARREST IS EFFECTED)\": \"Impairment / Physical Condition\",\n",
    "    \"PHYSICAL CONDITION OF DRIVER\": \"Impairment / Physical Condition\",\n",
    "\n",
    "    # 4. Distraction\n",
    "    \"DISTRACTION - FROM INSIDE VEHICLE\": \"Distracted Driver\",\n",
    "    \"DISTRACTION - FROM OUTSIDE VEHICLE\": \"Distracted Driver\",\n",
    "    \"DISTRACTION - OTHER ELECTRONIC DEVICE (NAVIGATION DEVICE, DVD PLAYER, ETC.)\": \"Distracted Driver\",\n",
    "    \"CELL PHONE USE OTHER THAN TEXTING\": \"Distracted Driver\",\n",
    "    \"TEXTING\": \"Distracted Driver\",\n",
    "\n",
    "    # 5. Environmental / Roadway Conditions\n",
    "    \"WEATHER\": \"Environmental / Roadway Conditions\",\n",
    "    \"ROAD ENGINEERING/SURFACE/MARKING DEFECTS\": \"Environmental / Roadway Conditions\",\n",
    "    \"ROAD CONSTRUCTION/MAINTENANCE\": \"Environmental / Roadway Conditions\",\n",
    "    \"OBSTRUCTED CROSSWALKS\": \"Environmental / Roadway Conditions\",\n",
    "    \"RELATED TO BUS STOP\": \"Environmental / Roadway Conditions\",\n",
    "    \"VISION OBSCURED (SIGNS, TREE LIMBS, BUILDINGS, ETC.)\": \"Environmental / Roadway Conditions\",\n",
    "    \"ANIMAL\": \"Environmental / Roadway Conditions\",\n",
    "    \"EVASIVE ACTION DUE TO ANIMAL, OBJECT, NONMOTORIST\": \"Environmental / Roadway Conditions\",\n",
    "\n",
    "    # 6. Vehicle-Related\n",
    "    \"EQUIPMENT - VEHICLE CONDITION\": \"Vehicle Malfunction\",\n",
    "\n",
    "    # Struck Bike\n",
    "    \"BICYCLE ADVANCING LEGALLY ON RED LIGHT\": \"Struck Legally Proceeding Bike\",\n",
    "    \"MOTORCYCLE ADVANCING LEGALLY ON RED LIGHT\": \"Struck Legally Proceeding Bike\",\n",
    "    \n",
    "    # 7. Other / Unknown / Not Applicable\n",
    "    \"UNABLE TO DETERMINE\": \"Unknown\",\n",
    "    \"NOT APPLICABLE\": \"Unknown\",\n",
    "    \n",
    "}\n"
   ]
  },
  {
   "cell_type": "code",
   "execution_count": null,
   "id": "d11fd052-ccf3-4cf3-a294-0712c4319f0f",
   "metadata": {},
   "outputs": [],
   "source": [
    "(df_peak[\"CAUSE_GROUP\"].unique())"
   ]
  },
  {
   "cell_type": "code",
   "execution_count": null,
   "id": "0f750833-f0e3-43f2-beed-7ea328d502ea",
   "metadata": {},
   "outputs": [],
   "source": [
    "cause_counts = df_peak['CAUSE_GROUP'].value_counts().sort_values(ascending=False)\n",
    "cause_counts.plot.bar()\n",
    "\n",
    "plt.title('Cause of Crash')\n",
    "plt.ylabel('Frequency')\n",
    "plt.show()\n"
   ]
  },
  {
   "cell_type": "code",
   "execution_count": null,
   "id": "d205ab3b-7a8c-4b25-84f2-489911b3b2b5",
   "metadata": {},
   "outputs": [],
   "source": [
    "freq_table = (\n",
    "    df_peak[\"CAUSE_GROUP\"]\n",
    "    .dropna()\n",
    "    .value_counts()\n",
    "    .reset_index()\n",
    ")\n",
    "freq_table.columns = [\"Primary Contributing Cause\", \"Count\"]\n",
    "total = freq_table[\"Count\"].sum()\n",
    "freq_table[\"Percent\"] = (freq_table[\"Count\"] / total * 100).round(2)\n",
    "freq_table.head(10)\n"
   ]
  },
  {
   "cell_type": "code",
   "execution_count": null,
   "id": "f8e2a60a-ab19-4238-870f-891077d2c30a",
   "metadata": {},
   "outputs": [],
   "source": [
    "len(df_peak[\"CAUSE_GROUP\"])"
   ]
  },
  {
   "cell_type": "code",
   "execution_count": null,
   "id": "a2bb53d5-f8bd-4c6b-ad7e-675a5db2766c",
   "metadata": {},
   "outputs": [],
   "source": [
    "import seaborn as sns\n",
    "\n",
    "heatmap_data = pd.crosstab(\n",
    "    df_peak[\"PRIM_CAUSE_GROUP\"],\n",
    "    df_peak[\"SEC_CAUSE_GROUP\"]\n",
    ")\n",
    "\n",
    "# --- Plot heatmap ---\n",
    "plt.figure(figsize=(10, 8))\n",
    "sns.heatmap(\n",
    "    heatmap_data,\n",
    "    cmap=\"YlGnBu\",\n",
    "    annot=True,\n",
    "    fmt=\".0f\",\n",
    "    linewidths=0.5,\n",
    "    cbar_kws={\"label\": \"Number of Crashes\"}\n",
    ")"
   ]
  }
 ],
 "metadata": {
  "kernelspec": {
   "display_name": "Python (pylab)",
   "language": "python",
   "name": "pylab"
  },
  "language_info": {
   "codemirror_mode": {
    "name": "ipython",
    "version": 3
   },
   "file_extension": ".py",
   "mimetype": "text/x-python",
   "name": "python",
   "nbconvert_exporter": "python",
   "pygments_lexer": "ipython3",
   "version": "3.13.3"
  }
 },
 "nbformat": 4,
 "nbformat_minor": 5
}
